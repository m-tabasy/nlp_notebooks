{
  "nbformat": 4,
  "nbformat_minor": 0,
  "metadata": {
    "colab": {
      "name": "explain_mlm.ipynb",
      "provenance": [],
      "collapsed_sections": [
        "4q7Yeb_t3f4c",
        "gv1FJw2CEoD3"
      ],
      "include_colab_link": true
    },
    "kernelspec": {
      "name": "python3",
      "display_name": "Python 3"
    },
    "accelerator": "GPU"
  },
  "cells": [
    {
      "cell_type": "markdown",
      "metadata": {
        "id": "view-in-github",
        "colab_type": "text"
      },
      "source": [
        "<a href=\"https://colab.research.google.com/github/tabasy/nlp_notebooks/blob/master/explain_mlm.ipynb\" target=\"_parent\"><img src=\"https://colab.research.google.com/assets/colab-badge.svg\" alt=\"Open In Colab\"/></a>"
      ]
    },
    {
      "cell_type": "markdown",
      "metadata": {
        "id": "WDfyVmBpqyuI"
      },
      "source": [
        "# Prepare Libs"
      ]
    },
    {
      "cell_type": "code",
      "metadata": {
        "id": "arEu7ejkqrca",
        "cellView": "form"
      },
      "source": [
        "# @title install libs\n",
        "\n",
        "!pip install transformers"
      ],
      "execution_count": null,
      "outputs": []
    },
    {
      "cell_type": "code",
      "metadata": {
        "id": "GsNxMBoBqxxi",
        "cellView": "form"
      },
      "source": [
        "# @title import libs\n",
        "\n",
        "from transformers import AutoModelForMaskedLM, AutoTokenizer, FillMaskPipeline\n",
        "\n",
        "import torch\n",
        "import matplotlib.pyplot as plt"
      ],
      "execution_count": 2,
      "outputs": []
    },
    {
      "cell_type": "markdown",
      "metadata": {
        "id": "4q7Yeb_t3f4c"
      },
      "source": [
        "# Load Models, Define Funcs\n",
        "\n",
        "* You can load multiple models by running the cell below  multiple times"
      ]
    },
    {
      "cell_type": "code",
      "metadata": {
        "id": "qEO_7J6nrBV9",
        "cellView": "form",
        "outputId": "b9d167df-dd71-4dc1-c7f2-df9f305d4456",
        "colab": {
          "base_uri": "https://localhost:8080/"
        }
      },
      "source": [
        "# @title load models\n",
        "models = models if 'models' in dir() else {}\n",
        "tokenizers = tokenizers if 'tokenizers' in dir() else {}\n",
        "pipelines = pipelines if 'pipelines' in dir() else {}\n",
        "\n",
        "model_name = \"roberta-large\" #@param [\"xlm-roberta-large\", \"bert-base-uncased\", \"bert-large-uncased\", \"bert-base-cased\", \"bert-large-cased\", \"roberta-base\", \"roberta-large\", \"bert-base-multilingual-uncased\", \"HooshvareLab/bert-base-parsbert-uncased\"]\n",
        "\n",
        "if model_name not in models:\n",
        "  tokenizers[model_name] = AutoTokenizer.from_pretrained(model_name)\n",
        "  models[model_name] = AutoModelForMaskedLM.from_pretrained(model_name)\n",
        "  pipelines[model_name] = FillMaskPipeline(model=models[model_name],\n",
        "                                          tokenizer=tokenizers[model_name],\n",
        "                                          topk=10, device=0)\n",
        "  \n",
        "print(list(models.keys()))"
      ],
      "execution_count": 3,
      "outputs": [
        {
          "output_type": "stream",
          "text": [
            "Some weights of RobertaForMaskedLM were not initialized from the model checkpoint at roberta-large and are newly initialized: ['lm_head.decoder.bias']\n",
            "You should probably TRAIN this model on a down-stream task to be able to use it for predictions and inference.\n"
          ],
          "name": "stderr"
        },
        {
          "output_type": "stream",
          "text": [
            "['roberta-large']\n"
          ],
          "name": "stdout"
        }
      ]
    },
    {
      "cell_type": "code",
      "metadata": {
        "id": "VswfBfhZ0LbD",
        "cellView": "form"
      },
      "source": [
        "# @title fill mask\n",
        "\n",
        "def fill_mask(text, k, return_full_text=True, model_name=None):\n",
        "\n",
        "  model_name = model_name or list(models.keys())[0]\n",
        "  tokenizer = tokenizers[model_name]\n",
        "  pipeline = pipelines[model_name]\n",
        "\n",
        "  text = text.replace('*', tokenizer.mask_token)\n",
        "  topk_tokens = pipeline(text)[:k]\n",
        "\n",
        "  for output in topk_tokens:\n",
        "    if return_full_text:\n",
        "      yield output['sequence'].replace(tokenizer.cls_token, '').replace(tokenizer.sep_token, '')\n",
        "    else:\n",
        "      yield output['score'], output['token'], output['token_str'].replace('Ġ', '')\n",
        "  "
      ],
      "execution_count": 4,
      "outputs": []
    },
    {
      "cell_type": "code",
      "metadata": {
        "id": "cz8gPeIoaF69",
        "cellView": "form"
      },
      "source": [
        "# @title remove word\n",
        "def remove_one_word(text, model_name=None, replace=False, return_tokens=False):\n",
        "  removed_sents = []\n",
        "\n",
        "  model_name = model_name or list(models.keys())[0]\n",
        "  tokenizer = tokenizers[model_name]\n",
        "\n",
        "  text = text.replace('*', tokenizer.mask_token)\n",
        "  tokens = tokenizer.tokenize(text)\n",
        "  \n",
        "  for i, token in enumerate(tokens):\n",
        "    replacement = [replace] if replace else [] \n",
        "    if token == tokenizer.mask_token:\n",
        "      replacement = [tokenizer.mask_token]\n",
        "    new_sent = tokens[:i] + replacement + tokens[i+1:]\n",
        "    if not return_tokens:\n",
        "        new_sent = tokenizer.convert_tokens_to_string(new_sent)\n",
        "    removed_sents.append(new_sent)\n",
        "  \n",
        "  return removed_sents"
      ],
      "execution_count": 5,
      "outputs": []
    },
    {
      "cell_type": "code",
      "metadata": {
        "id": "Mf7WLDubfezW",
        "cellView": "form"
      },
      "source": [
        "# @title token importance\n",
        "def get_token_importance(text, target_word, model_name=None,\n",
        "                          separate_sent=False):\n",
        "  model_name = model_name or list(models.keys())[0]\n",
        "  tokenizer = tokenizers[model_name]\n",
        "  pipeline = pipelines[model_name]\n",
        "\n",
        "  target_word = ' ' + target_word.strip()\n",
        "  text = text.replace('*', tokenizer.mask_token)\n",
        "  tokens = tokenizer.tokenize(text)\n",
        "  tokens = [token.replace('Ġ', '') for token in tokens]\n",
        "  fixed_idx = tokens.index(tokenizer.mask_token)\n",
        "  tokens[fixed_idx] = target_word\n",
        "\n",
        "  removed_sents = remove_one_word(text, replace=False, model_name=model_name)\n",
        "  mask_preds = pipeline(removed_sents, targets=target_word)\n",
        "\n",
        "  probs = [pred[0]['score'] for pred in mask_preds]\n",
        "  importances = [probs[fixed_idx]-prob for prob in probs]\n",
        "\n",
        "  return importances, tokens\n",
        "\n",
        "# get_token_importance('i am a black *.', 'man', model_name=model_name)"
      ],
      "execution_count": 6,
      "outputs": []
    },
    {
      "cell_type": "code",
      "metadata": {
        "id": "knkH6cXRZ9U0",
        "cellView": "form"
      },
      "source": [
        "# @title visualize importance\n",
        "from matplotlib import pyplot as plt\n",
        "import matplotlib.cm as cm\n",
        "import matplotlib.colors as clr\n",
        "from pylab import rcParams\n",
        "\n",
        "from IPython.display import HTML\n",
        "\n",
        "def visualize_attention(sentences, score_lists, color_maps='RdYlGn', rtl=False,\n",
        "                        alpha=0.5, font_size=14, token_sep=' ', sentence_sep='<br/><br/>'):\n",
        "\n",
        "  if type(color_maps) is str:\n",
        "    color_maps = [color_maps] * len(sentences)\n",
        "\n",
        "  span_sentences, style_sentences = [], []\n",
        "\n",
        "  for s, tokens in enumerate(sentences):\n",
        "\n",
        "    scores = score_lists[s]\n",
        "    cmap = cm.get_cmap(color_maps[s])\n",
        "    \n",
        "    max_value = max(abs(min(scores)), abs(max(scores)))\n",
        "    normer = clr.Normalize(vmin=-max_value/alpha, vmax=max_value/alpha)\n",
        "    colors = [clr.to_hex(cmap(normer(x))) for x in scores]\n",
        "\n",
        "    if len(tokens) != len(colors):\n",
        "        raise ValueError(\"number of tokens and colors don't match\")\n",
        "\n",
        "    style_elems, span_elems = [], []\n",
        "    for i in range(len(tokens)):\n",
        "        style_elems.append(f'.c{s}-{i} {{ background-color: {colors[i]}; }}')\n",
        "        span_elems.append(f'<span class=\"c{s}-{i}\">{tokens[i]} </span>')\n",
        "\n",
        "    span_sentences.append(token_sep.join(span_elems))\n",
        "    style_sentences.append(' '.join(style_elems))\n",
        "    text_dir = 'rtl' if rtl else 'ltr'\n",
        "\n",
        "  return HTML(f\"\"\"<html><head><link href=\"https://fonts.googleapis.com/css?family=Roboto+Mono&display=swap\" rel=\"stylesheet\">\n",
        "               <style>span {{ font-family: \"Roboto Mono\", monospace; font-size: {font_size}px; padding: 2px}} {' '.join(style_sentences)}</style>\n",
        "               </head><body><p dir=\"{text_dir}\">{sentence_sep.join(span_sentences)}</p></body></html>\"\"\")"
      ],
      "execution_count": 7,
      "outputs": []
    },
    {
      "cell_type": "markdown",
      "metadata": {
        "id": "GS4nEPNPF5Xq"
      },
      "source": [
        "# Explain Prediction\n",
        "\n",
        "* A simple method proposed by TextFooler paper (Jin et al. 2019) to measure the influence of each context word towards a prediction (a target word in this case).\n",
        "* As the name TextFooler implies, this method is used to generate black-box adversarial examples which make a drastic change in model prediction with minimum variation (perturbation) in the input text.\n",
        "* The change in probability of target word caused by removing each individual token, is considered as its influence/importance.\n",
        "* The influence can be negative. This meaning if we remove that token, the model will be more confident about the target word.\n",
        "* **This method is a black-box approximation of gradient-based feature attribution. USE WITH YOUR OWN RISK! :)**\n"
      ]
    },
    {
      "cell_type": "markdown",
      "metadata": {
        "id": "YYI2bdONWl7Q"
      },
      "source": [
        "## #1"
      ]
    },
    {
      "cell_type": "code",
      "metadata": {
        "id": "TZm7oBkVF8NO",
        "cellView": "form",
        "outputId": "9b9c4925-5c94-4304-85f8-7fbf171aad82",
        "colab": {
          "base_uri": "https://localhost:8080/",
          "height": 268
        }
      },
      "source": [
        "model_name = \"roberta-large\" #@param [\"bert-base-uncased\", \"bert-large-uncased\", \"bert-base-cased\", \"bert-large-cased\", \"roberta-base\", \"roberta-large\", \"bert-base-multilingual-uncased\", \"HooshvareLab/bert-base-parsbert-uncased\"]\n",
        "text = \"Jesus, the prophet of God, wanted the people to * each other.\" #@param {type:\"string\"}\n",
        "prefix = \"\" #@param {type:\"string\"}\n",
        "postfix = \"\" #@param {type:\"string\"}\n",
        "\n",
        "top_k = 10 #@param {type:\"integer\"}\n",
        "\n",
        "font_size = 12 #@param {type:\"integer\"}\n",
        "\n",
        "print_full_text = False #@param {type:\"boolean\"}\n",
        "probs, words = [], []\n",
        "plt.rcParams['figure.figsize'] = [24, 4]\n",
        "plt.rcParams['font.size'] = font_size\n",
        "\n",
        "full_text = f'{prefix} {text} {postfix}'.strip()\n",
        "top_k_words = list(fill_mask(full_text, top_k, model_name=model_name, return_full_text=print_full_text))\n",
        "for output in top_k_words:\n",
        "  if print_full_text:\n",
        "    print(output)\n",
        "  else:\n",
        "    probs.append(output[0])\n",
        "    words.append(f'{output[2]} ({output[1]})')\n",
        "\n",
        "if not print_full_text:\n",
        "  plt.bar(words, probs)\n",
        "  plt.show()"
      ],
      "execution_count": 8,
      "outputs": [
        {
          "output_type": "display_data",
          "data": {
            "image/png": "[encoded data removed]",
            "text/plain": [
              "<Figure size 1728x288 with 1 Axes>"
            ]
          },
          "metadata": {
            "tags": [],
            "needs_background": "light"
          }
        }
      ]
    },
    {
      "cell_type": "code",
      "metadata": {
        "id": "Y6-xuuGeGicm",
        "cellView": "form",
        "outputId": "0b18d6f8-1f75-4ad0-a2d4-214845ee3c52",
        "colab": {
          "base_uri": "https://localhost:8080/",
          "height": 89
        }
      },
      "source": [
        "# @title visualize importance\n",
        "\n",
        "target_word = \"\"#@param {type:\"string\"}\n",
        "colormap = \"bwr_r\" #@param [\"RdYlGn\", \"bwr_r\"]\n",
        "alpha = 0.8 #@param {type:\"number\"}\n",
        "disable_prefix_postfix = True #@param {type:\"boolean\"}\n",
        "right_to_left = False #@param {type:\"boolean\"}\n",
        "\n",
        "if target_word.strip() == '':\n",
        "  target_word = top_k_words[0][2]\n",
        "\n",
        "importances, tokens = get_token_importance(full_text, target_word, model_name=model_name)\n",
        "tokenizer = tokenizers[model_name]\n",
        "\n",
        "if disable_prefix_postfix and len(prefix.strip()) > 0:\n",
        "  prefix_tokens = tokenizer.tokenize(prefix.replace('*', tokenizer.mask_token))\n",
        "  for i in range(len(prefix_tokens)):\n",
        "    importances[i] = 0\n",
        "\n",
        "if disable_prefix_postfix and len(postfix.strip()) > 0:\n",
        "  postfix_tokens = tokenizer.tokenize(postfix.replace('*', tokenizer.mask_token))\n",
        "  for i in range(len(postfix_tokens)):\n",
        "    importances[-i-1] = 0\n",
        "\n",
        "visualize_attention([tokens], [importances], color_maps=colormap, rtl=right_to_left, alpha=alpha)"
      ],
      "execution_count": 9,
      "outputs": [
        {
          "output_type": "execute_result",
          "data": {
            "text/html": [
              "<html><head><link href=\"https://fonts.googleapis.com/css?family=Roboto+Mono&display=swap\" rel=\"stylesheet\">\n",
              "               <style>span { font-family: \"Roboto Mono\", monospace; font-size: 14px; padding: 2px} .c0-0 { background-color: #8c8cff; } .c0-1 { background-color: #f0f0ff; } .c0-2 { background-color: #fffcfc; } .c0-3 { background-color: #f2f2ff; } .c0-4 { background-color: #f0f0ff; } .c0-5 { background-color: #dedeff; } .c0-6 { background-color: #f8f8ff; } .c0-7 { background-color: #ffe6e6; } .c0-8 { background-color: #fafaff; } .c0-9 { background-color: #9e9eff; } .c0-10 { background-color: #5050ff; } .c0-11 { background-color: #fefeff; } .c0-12 { background-color: #3232ff; } .c0-13 { background-color: #8888ff; } .c0-14 { background-color: #f0f0ff; }</style>\n",
              "               </head><body><p dir=\"ltr\"><span class=\"c0-0\">Jesus </span> <span class=\"c0-1\">, </span> <span class=\"c0-2\">the </span> <span class=\"c0-3\">prophet </span> <span class=\"c0-4\">of </span> <span class=\"c0-5\">God </span> <span class=\"c0-6\">, </span> <span class=\"c0-7\">wanted </span> <span class=\"c0-8\">the </span> <span class=\"c0-9\">people </span> <span class=\"c0-10\">to </span> <span class=\"c0-11\"> love </span> <span class=\"c0-12\">each </span> <span class=\"c0-13\">other </span> <span class=\"c0-14\">. </span></p></body></html>"
            ],
            "text/plain": [
              "<IPython.core.display.HTML object>"
            ]
          },
          "metadata": {
            "tags": []
          },
          "execution_count": 9
        }
      ]
    },
    {
      "cell_type": "markdown",
      "metadata": {
        "id": "7dXgIHVgWpZZ"
      },
      "source": [
        "## #2"
      ]
    },
    {
      "cell_type": "code",
      "metadata": {
        "id": "MFiuQevDWkhl",
        "cellView": "form",
        "outputId": "fcf2e147-6189-47f7-e081-13af3fbd2d88",
        "colab": {
          "base_uri": "https://localhost:8080/",
          "height": 268
        }
      },
      "source": [
        "model_name = \"roberta-large\" #@param [\"bert-base-uncased\", \"bert-large-uncased\", \"bert-base-cased\", \"bert-large-cased\", \"roberta-base\", \"roberta-large\", \"bert-base-multilingual-uncased\", \"HooshvareLab/bert-base-parsbert-uncased\"]\n",
        "text = \"Then he turned away from them, and said, \\\"O my bitterness for my son, *.\\\" And his eyes turned white from sorrow, and he became depressed.\" #@param {type:\"string\"}\n",
        "prefix = \"\" #@param {type:\"string\"}\n",
        "postfix = \"\" #@param {type:\"string\"}\n",
        "\n",
        "top_k = 10 #@param {type:\"integer\"}\n",
        "\n",
        "font_size = 12 #@param {type:\"integer\"}\n",
        "\n",
        "print_full_text = False #@param {type:\"boolean\"}\n",
        "probs, words = [], []\n",
        "plt.rcParams['figure.figsize'] = [24, 4]\n",
        "plt.rcParams['font.size'] = font_size\n",
        "\n",
        "full_text = f'{prefix} {text} {postfix}'.strip()\n",
        "top_k_words = list(fill_mask(full_text, top_k, model_name=model_name, return_full_text=print_full_text))\n",
        "for output in top_k_words:\n",
        "  if print_full_text:\n",
        "    print(output)\n",
        "  else:\n",
        "    probs.append(output[0])\n",
        "    words.append(f'{output[2]} ({output[1]})')\n",
        "\n",
        "if not print_full_text:\n",
        "  plt.bar(words, probs)\n",
        "  plt.show()"
      ],
      "execution_count": 10,
      "outputs": [
        {
          "output_type": "display_data",
          "data": {
            "image/png": "[encoded data removed]",
            "text/plain": [
              "<Figure size 1728x288 with 1 Axes>"
            ]
          },
          "metadata": {
            "tags": [],
            "needs_background": "light"
          }
        }
      ]
    },
    {
      "cell_type": "code",
      "metadata": {
        "id": "h5ReX19SWr8i",
        "cellView": "form",
        "outputId": "b8c21d68-7313-4aa5-e9f0-e5c7d1768558",
        "colab": {
          "base_uri": "https://localhost:8080/",
          "height": 89
        }
      },
      "source": [
        "# @title visualize importance\n",
        "\n",
        "target_word = \"Joseph\"#@param {type:\"string\"}\n",
        "colormap = \"RdYlGn\" #@param [\"RdYlGn\", \"bwr_r\"]\n",
        "alpha = 0.8 #@param {type:\"number\"}\n",
        "disable_prefix_postfix = False #@param {type:\"boolean\"}\n",
        "right_to_left = False #@param {type:\"boolean\"}\n",
        "\n",
        "if target_word.strip() == '':\n",
        "  target_word = top_k_words[0][2]\n",
        "\n",
        "importances, tokens = get_token_importance(full_text, target_word, model_name=model_name)\n",
        "tokenizer = tokenizers[model_name]\n",
        "\n",
        "if disable_prefix_postfix and len(prefix.strip()) > 0:\n",
        "  prefix_tokens = tokenizer.tokenize(prefix.replace('*', tokenizer.mask_token))\n",
        "  for i in range(len(prefix_tokens)):\n",
        "    importances[i] = 0\n",
        "\n",
        "if disable_prefix_postfix and len(postfix.strip()) > 0:\n",
        "  postfix_tokens = tokenizer.tokenize(postfix.replace('*', tokenizer.mask_token))\n",
        "  for i in range(len(postfix_tokens)):\n",
        "    importances[-i-1] = 0\n",
        "\n",
        "visualize_attention([tokens], [importances], color_maps=colormap, rtl=right_to_left, alpha=alpha)"
      ],
      "execution_count": 11,
      "outputs": [
        {
          "output_type": "execute_result",
          "data": {
            "text/html": [
              "<html><head><link href=\"https://fonts.googleapis.com/css?family=Roboto+Mono&display=swap\" rel=\"stylesheet\">\n",
              "               <style>span { font-family: \"Roboto Mono\", monospace; font-size: 14px; padding: 2px} .c0-0 { background-color: #fffbb8; } .c0-1 { background-color: #eef8a8; } .c0-2 { background-color: #fbfdba; } .c0-3 { background-color: #eef8a8; } .c0-4 { background-color: #e9f6a1; } .c0-5 { background-color: #f2faae; } .c0-6 { background-color: #fbfdba; } .c0-7 { background-color: #ebf7a3; } .c0-8 { background-color: #bbe278; } .c0-9 { background-color: #fafdb8; } .c0-10 { background-color: #e3f399; } .c0-11 { background-color: #a2d76a; } .c0-12 { background-color: #fffab6; } .c0-13 { background-color: #e3f399; } .c0-14 { background-color: #8ccd67; } .c0-15 { background-color: #4eb15d; } .c0-16 { background-color: #199750; } .c0-17 { background-color: #cdea83; } .c0-18 { background-color: #feffbe; } .c0-19 { background-color: #199750; } .c0-20 { background-color: #dcf08f; } .c0-21 { background-color: #f1f9ac; } .c0-22 { background-color: #eff8aa; } .c0-23 { background-color: #f7fcb4; } .c0-24 { background-color: #ecf7a6; } .c0-25 { background-color: #f1f9ac; } .c0-26 { background-color: #f2faae; } .c0-27 { background-color: #fbfdba; } .c0-28 { background-color: #e6f59d; } .c0-29 { background-color: #fdc372; } .c0-30 { background-color: #feda86; } .c0-31 { background-color: #f5fbb2; } .c0-32 { background-color: #ddf191; }</style>\n",
              "               </head><body><p dir=\"ltr\"><span class=\"c0-0\">Then </span> <span class=\"c0-1\">he </span> <span class=\"c0-2\">turned </span> <span class=\"c0-3\">away </span> <span class=\"c0-4\">from </span> <span class=\"c0-5\">them </span> <span class=\"c0-6\">, </span> <span class=\"c0-7\">and </span> <span class=\"c0-8\">said </span> <span class=\"c0-9\">, </span> <span class=\"c0-10\">\" </span> <span class=\"c0-11\">O </span> <span class=\"c0-12\">my </span> <span class=\"c0-13\">bitterness </span> <span class=\"c0-14\">for </span> <span class=\"c0-15\">my </span> <span class=\"c0-16\">son </span> <span class=\"c0-17\">, </span> <span class=\"c0-18\"> Joseph </span> <span class=\"c0-19\">.\" </span> <span class=\"c0-20\">And </span> <span class=\"c0-21\">his </span> <span class=\"c0-22\">eyes </span> <span class=\"c0-23\">turned </span> <span class=\"c0-24\">white </span> <span class=\"c0-25\">from </span> <span class=\"c0-26\">sorrow </span> <span class=\"c0-27\">, </span> <span class=\"c0-28\">and </span> <span class=\"c0-29\">he </span> <span class=\"c0-30\">became </span> <span class=\"c0-31\">depressed </span> <span class=\"c0-32\">. </span></p></body></html>"
            ],
            "text/plain": [
              "<IPython.core.display.HTML object>"
            ]
          },
          "metadata": {
            "tags": []
          },
          "execution_count": 11
        }
      ]
    }
  ]
}