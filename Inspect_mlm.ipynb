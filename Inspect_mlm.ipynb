{
  "nbformat": 4,
  "nbformat_minor": 0,
  "metadata": {
    "colab": {
      "name": "Inspect_mlm.ipynb",
      "provenance": [],
      "collapsed_sections": [
        "4q7Yeb_t3f4c",
        "gv1FJw2CEoD3"
      ],
      "authorship_tag": "ABX9TyPna1kk1+IoJXtYKK8B4LAO",
      "include_colab_link": true
    },
    "kernelspec": {
      "name": "python3",
      "display_name": "Python 3"
    },
    "accelerator": "TPU"
  },
  "cells": [
    {
      "cell_type": "markdown",
      "metadata": {
        "id": "view-in-github",
        "colab_type": "text"
      },
      "source": [
        "<a href=\"https://colab.research.google.com/github/m-tabasy/nlp_notebooks/blob/master/Inspect_mlm.ipynb\" target=\"_parent\"><img src=\"https://colab.research.google.com/assets/colab-badge.svg\" alt=\"Open In Colab\"/></a>"
      ]
    },
    {
      "cell_type": "markdown",
      "metadata": {
        "id": "WDfyVmBpqyuI",
        "colab_type": "text"
      },
      "source": [
        "# Prepare Libs"
      ]
    },
    {
      "cell_type": "code",
      "metadata": {
        "id": "arEu7ejkqrca",
        "colab_type": "code",
        "cellView": "form",
        "colab": {}
      },
      "source": [
        "# @title install libs\n",
        "\n",
        "!pip install transformers"
      ],
      "execution_count": null,
      "outputs": []
    },
    {
      "cell_type": "code",
      "metadata": {
        "id": "GsNxMBoBqxxi",
        "colab_type": "code",
        "cellView": "form",
        "colab": {}
      },
      "source": [
        "# @title import libs\n",
        "\n",
        "from transformers import AutoModelForMaskedLM, AutoTokenizer\n",
        "import torch\n",
        "import matplotlib.pyplot as plt"
      ],
      "execution_count": 21,
      "outputs": []
    },
    {
      "cell_type": "markdown",
      "metadata": {
        "id": "4q7Yeb_t3f4c",
        "colab_type": "text"
      },
      "source": [
        "# Load Models, Define Funcs\n",
        "\n",
        "* You can load multiple models by running the cell below  multiple times"
      ]
    },
    {
      "cell_type": "code",
      "metadata": {
        "id": "qEO_7J6nrBV9",
        "colab_type": "code",
        "cellView": "form",
        "colab": {}
      },
      "source": [
        "# @title load models\n",
        "models = models if 'models' in dir() else {}\n",
        "tokenizers = tokenizers if 'tokenizers' in dir() else {}\n",
        "\n",
        "model_name = \"HooshvareLab/bert-base-parsbert-uncased\" #@param [\"bert-base-uncased\", \"bert-large-uncased\", \"bert-base-cased\", \"bert-large-cased\", \"roberta-base\", \"roberta-large\", \"bert-base-multilingual-uncased\", \"HooshvareLab/bert-base-parsbert-uncased\"]\n",
        "tokenizers[model_name] = AutoTokenizer.from_pretrained(model_name)\n",
        "models[model_name] = AutoModelForMaskedLM.from_pretrained(model_name)\n",
        "\n",
        "print(list(models.keys()))"
      ],
      "execution_count": null,
      "outputs": []
    },
    {
      "cell_type": "code",
      "metadata": {
        "id": "VswfBfhZ0LbD",
        "colab_type": "code",
        "cellView": "form",
        "colab": {}
      },
      "source": [
        "# @title fill mask\n",
        "\n",
        "def fill_mask(text, k, return_full_text=True, model_name=None):\n",
        "\n",
        "  model_name = model_name or list(models.keys())[0]\n",
        "  model = models[model_name]\n",
        "  tokenizer = tokenizers[model_name]\n",
        "\n",
        "  text = text.replace('*', tokenizer.mask_token)\n",
        "  input = tokenizer.encode(text, return_tensors=\"pt\")\n",
        "  mask_token_index = torch.where(input == tokenizer.mask_token_id)[1]\n",
        "\n",
        "  token_logits = model(input)[0]\n",
        "  mask_token_logits = token_logits[0, mask_token_index, :]\n",
        "  token_probs = torch.softmax(mask_token_logits, -1, torch.float32).detach().numpy()[0].tolist()\n",
        "\n",
        "  top_k_tokens = torch.topk(mask_token_logits, k, dim=1).indices[0].tolist()\n",
        "\n",
        "  for token in top_k_tokens:\n",
        "    if return_full_text:\n",
        "      yield token_probs[token], text.replace(tokenizer.mask_token, f'[{tokenizer.decode([token]).strip()}]')\n",
        "    else:\n",
        "      yield token_probs[token], tokenizer.decode([token]).strip()\n",
        "  "
      ],
      "execution_count": 4,
      "outputs": []
    },
    {
      "cell_type": "markdown",
      "metadata": {
        "id": "NqjOnQSS28Ii",
        "colab_type": "text"
      },
      "source": [
        "# Manual Inspect\n",
        "\n",
        "* Place a \"*\" where you want the model to fill.\n",
        "* Current fill_mask function only supports one masked token."
      ]
    },
    {
      "cell_type": "code",
      "metadata": {
        "id": "9YsXZQdYxTaR",
        "colab_type": "code",
        "cellView": "form",
        "colab": {
          "base_uri": "https://localhost:8080/",
          "height": 375
        },
        "outputId": "c142c8e9-4493-436e-99d6-fe3c86809a48"
      },
      "source": [
        "model_name = \"HooshvareLab/bert-base-parsbert-uncased\" #@param [\"bert-base-uncased\", \"bert-large-uncased\", \"bert-base-cased\", \"bert-large-cased\", \"roberta-base\", \"roberta-large\", \"bert-base-multilingual-uncased\", \"HooshvareLab/bert-base-parsbert-uncased\"]\n",
        "text = \"\\u0628\\u0627 \\u0627\\u06CC\\u0646 \\u0648\\u062C\\u0648\\u062F \\u0628\\u0647 \\u0646\\u0638\\u0631 \\u0645\\u06CC \\u0631\\u0633\\u062F \\u0628\\u0627\\u0632\\u06CC \\u0647\\u0627\\u06CC \\u0644\\u06CC\\u06AF \\u0628\\u0631\\u062A\\u0631 \\u062F\\u0631 \\u0641\\u0635\\u0644 \\u062C\\u062F\\u06CC\\u062F \\u0647\\u0645 \\u0628\\u062F\\u0648\\u0646 \\u062D\\u0636\\u0648\\u0631 * \\u0628\\u0631\\u06AF\\u0632\\u0627\\u0631 \\u0645\\u06CC \\u0634\\u0648\\u062F\" #@param {type:\"string\"}\n",
        "top_k_words = 10 #@param {type:\"integer\"}\n",
        "print_full_text = False #@param {type:\"boolean\"}\n",
        "probs, words = [], []\n",
        "plt.rcParams['figure.figsize'] = [18, 6]\n",
        "\n",
        "for output in fill_mask(text, top_k_words, model_name=model_name, return_full_text=return_full_text):\n",
        "  if print_full_text:\n",
        "    print(output)\n",
        "  else:\n",
        "    probs.append(output[0])\n",
        "    words.append(output[1])\n",
        "\n",
        "if not print_full_text:\n",
        "  plt.bar(words, probs)\n",
        "  plt.show()"
      ],
      "execution_count": 35,
      "outputs": [
        {
          "output_type": "display_data",
          "data": {
            "image/png": "[encoded data removed]",
            "text/plain": [
              "<Figure size 1296x432 with 1 Axes>"
            ]
          },
          "metadata": {
            "tags": [],
            "needs_background": "light"
          }
        }
      ]
    },
    {
      "cell_type": "code",
      "metadata": {
        "id": "-RlL_cPje0zc",
        "colab_type": "code",
        "colab": {}
      },
      "source": [
        ""
      ],
      "execution_count": null,
      "outputs": []
    }
  ]
}